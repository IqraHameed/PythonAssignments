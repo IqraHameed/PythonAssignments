{
 "cells": [
  {
   "cell_type": "code",
   "execution_count": 1,
   "id": "18e22222",
   "metadata": {},
   "outputs": [
    {
     "name": "stdout",
     "output_type": "stream",
     "text": [
      "{'money': 12, 'candy': 3, 'tissues': 75}\n",
      "3\n",
      "{'money': 12, 'candy': 5, 'tissues': 75}\n"
     ]
    }
   ],
   "source": [
    "purse = dict()\n",
    "purse['money'] = 12\n",
    "purse['candy'] = 3\n",
    "purse['tissues'] = 75\n",
    "print(purse)\n",
    "print(purse['candy'])\n",
    "purse['candy'] = purse['candy'] + 2\n",
    "print(purse)"
   ]
  },
  {
   "cell_type": "code",
   "execution_count": 2,
   "id": "9829c4ca",
   "metadata": {},
   "outputs": [
    {
     "name": "stdout",
     "output_type": "stream",
     "text": [
      "{'age': 21, 'course': 182}\n",
      "{'age': 23, 'course': 182}\n"
     ]
    },
    {
     "data": {
      "text/plain": [
       "{'course': 182, 'age': 23}"
      ]
     },
     "execution_count": 2,
     "metadata": {},
     "output_type": "execute_result"
    }
   ],
   "source": [
    "ddd = dict()\n",
    "ddd['age'] = 21\n",
    "ddd['course'] = 182\n",
    "print(ddd)\n",
    "{'course': 182, 'age': 21}\n",
    "ddd['age'] = 23\n",
    "print(ddd)\n",
    "{'course': 182, 'age': 23}"
   ]
  },
  {
   "cell_type": "code",
   "execution_count": 3,
   "id": "f818b3ac",
   "metadata": {},
   "outputs": [
    {
     "name": "stdout",
     "output_type": "stream",
     "text": [
      "{'chuck': 1, 'fred': 42, 'jan': 100}\n",
      "{}\n"
     ]
    }
   ],
   "source": [
    "jjj = { 'chuck' : 1 , 'fred' : 42, 'jan': 100}\n",
    "print(jjj)\n",
    "ooo = { }\n",
    "print(ooo)"
   ]
  },
  {
   "cell_type": "code",
   "execution_count": 4,
   "id": "30dd7dc3",
   "metadata": {},
   "outputs": [
    {
     "name": "stdout",
     "output_type": "stream",
     "text": [
      "{'csev': 1, 'cwen': 1}\n",
      "{'csev': 1, 'cwen': 2}\n"
     ]
    }
   ],
   "source": [
    "ccc = dict()\n",
    "ccc['csev'] = 1\n",
    "ccc['cwen'] = 1\n",
    "print(ccc)\n",
    "ccc['cwen'] = ccc['cwen'] + 1\n",
    "print(ccc)"
   ]
  },
  {
   "cell_type": "code",
   "execution_count": null,
   "id": "3143f4e7",
   "metadata": {},
   "outputs": [],
   "source": []
  }
 ],
 "metadata": {
  "kernelspec": {
   "display_name": "Python 3 (ipykernel)",
   "language": "python",
   "name": "python3"
  },
  "language_info": {
   "codemirror_mode": {
    "name": "ipython",
    "version": 3
   },
   "file_extension": ".py",
   "mimetype": "text/x-python",
   "name": "python",
   "nbconvert_exporter": "python",
   "pygments_lexer": "ipython3",
   "version": "3.9.13"
  }
 },
 "nbformat": 4,
 "nbformat_minor": 5
}
