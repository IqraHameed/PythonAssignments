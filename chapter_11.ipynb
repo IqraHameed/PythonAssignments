{
 "cells": [
  {
   "cell_type": "code",
   "execution_count": 1,
   "id": "2b690d00",
   "metadata": {},
   "outputs": [],
   "source": [
    "class Apple:\n",
    "    pass"
   ]
  },
  {
   "cell_type": "code",
   "execution_count": 2,
   "id": "8e00e915",
   "metadata": {},
   "outputs": [],
   "source": [
    "class Apple:\n",
    "    color= \" \"\n",
    "    flavor= \" \"\n",
    "jonagold = Apple()    "
   ]
  },
  {
   "cell_type": "code",
   "execution_count": 3,
   "id": "ac121527",
   "metadata": {},
   "outputs": [
    {
     "name": "stdout",
     "output_type": "stream",
     "text": [
      "Red\n",
      "sweet\n"
     ]
    }
   ],
   "source": [
    "class Apple:\n",
    "    color= \" \"\n",
    "    flavor= \" \"\n",
    "jonagold = Apple()\n",
    "jonagold.color = \"Red\"\n",
    "jonagold.flavor = \"sweet\"\n",
    "print(jonagold.color)\n",
    "print(jonagold.flavor)"
   ]
  },
  {
   "cell_type": "code",
   "execution_count": 4,
   "id": "ba929b3b",
   "metadata": {},
   "outputs": [
    {
     "name": "stdout",
     "output_type": "stream",
     "text": [
      "Red\n",
      "sweet\n"
     ]
    }
   ],
   "source": [
    "class Apple:\n",
    "    color= \" \"\n",
    "    flavor= \" \"\n",
    "jonagold = Apple()\n",
    "jonagold.color = \"Red\"\n",
    "jonagold.flavor = \"sweet\"\n",
    "print(jonagold.color)\n",
    "print(jonagold.flavor)\n",
    "golden = Apple()\n",
    "golden.color = \"yellow\"\n",
    "golden.flavor = \"soft\""
   ]
  },
  {
   "cell_type": "code",
   "execution_count": 5,
   "id": "2a501703",
   "metadata": {},
   "outputs": [
    {
     "name": "stdout",
     "output_type": "stream",
     "text": [
      "Red\n",
      "sweet\n",
      "yellow soft\n"
     ]
    }
   ],
   "source": [
    "class Apple:\n",
    "    color= \" \"\n",
    "    flavor= \" \"\n",
    "jonagold = Apple()\n",
    "jonagold.color = \"Red\"\n",
    "jonagold.flavor = \"sweet\"\n",
    "print(jonagold.color)\n",
    "print(jonagold.flavor)\n",
    "golden = Apple()\n",
    "golden.color = \"yellow\"\n",
    "golden.flavor = \"soft\"\n",
    "print(golden.color, golden.flavor)"
   ]
  },
  {
   "cell_type": "code",
   "execution_count": 7,
   "id": "096d9fce",
   "metadata": {},
   "outputs": [
    {
     "name": "stdout",
     "output_type": "stream",
     "text": [
      "Mewoo! I'm Luna\n",
      "Mewoo! I'm Bella\n"
     ]
    }
   ],
   "source": [
    "class Cat:\n",
    "    name = \" \"\n",
    "    def speak(self):\n",
    "        print(\"Mewoo! I'm {}\". format(self.name))\n",
    "myLuna = Cat()\n",
    "myLuna.name = \"Luna\"\n",
    "myLuna.speak()\n",
    "myBella = Cat()\n",
    "myBella.name = \"Bella\"\n",
    "myBella.speak()"
   ]
  },
  {
   "cell_type": "code",
   "execution_count": null,
   "id": "6b11781a",
   "metadata": {},
   "outputs": [],
   "source": []
  }
 ],
 "metadata": {
  "kernelspec": {
   "display_name": "Python 3 (ipykernel)",
   "language": "python",
   "name": "python3"
  },
  "language_info": {
   "codemirror_mode": {
    "name": "ipython",
    "version": 3
   },
   "file_extension": ".py",
   "mimetype": "text/x-python",
   "name": "python",
   "nbconvert_exporter": "python",
   "pygments_lexer": "ipython3",
   "version": "3.9.13"
  }
 },
 "nbformat": 4,
 "nbformat_minor": 5
}
