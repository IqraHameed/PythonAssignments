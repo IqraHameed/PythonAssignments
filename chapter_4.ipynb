{
 "cells": [
  {
   "cell_type": "code",
   "execution_count": 3,
   "id": "bd2db7be",
   "metadata": {},
   "outputs": [
    {
     "name": "stdout",
     "output_type": "stream",
     "text": [
      "Vicky\n"
     ]
    }
   ],
   "source": [
    "x = max(\"Mike\", \"John\", \"Vicky\")\n",
    "print(x)"
   ]
  },
  {
   "cell_type": "code",
   "execution_count": 4,
   "id": "58790343",
   "metadata": {},
   "outputs": [
    {
     "name": "stdout",
     "output_type": "stream",
     "text": [
      "9\n"
     ]
    }
   ],
   "source": [
    "a = (1, 5, 3, 9)\n",
    "x = max(a)\n",
    "print(x)"
   ]
  },
  {
   "cell_type": "code",
   "execution_count": 5,
   "id": "b1af6de0",
   "metadata": {},
   "outputs": [
    {
     "name": "stdout",
     "output_type": "stream",
     "text": [
      "w\n"
     ]
    }
   ],
   "source": [
    "s = (\"hello world\")\n",
    "x = max(s)\n",
    "print(x)"
   ]
  },
  {
   "cell_type": "code",
   "execution_count": 6,
   "id": "0b721bf7",
   "metadata": {},
   "outputs": [
    {
     "name": "stdout",
     "output_type": "stream",
     "text": [
      "world\n"
     ]
    }
   ],
   "source": [
    "s = \"hello\"\n",
    "s = \"world\"\n",
    "print(s)"
   ]
  },
  {
   "cell_type": "code",
   "execution_count": 7,
   "id": "7ec06d95",
   "metadata": {},
   "outputs": [
    {
     "name": "stdout",
     "output_type": "stream",
     "text": [
      "w\n"
     ]
    }
   ],
   "source": [
    "x = (\"hello world\")\n",
    "x = max(x)\n",
    "print(x)"
   ]
  },
  {
   "cell_type": "code",
   "execution_count": 9,
   "id": "8f0aa262",
   "metadata": {},
   "outputs": [
    {
     "name": "stdout",
     "output_type": "stream",
     "text": [
      "-2.5\n"
     ]
    }
   ],
   "source": [
    "print(1 + 2 * float(3) / 4-5)"
   ]
  },
  {
   "cell_type": "code",
   "execution_count": 11,
   "id": "b376cfc0",
   "metadata": {},
   "outputs": [
    {
     "name": "stdout",
     "output_type": "stream",
     "text": [
      "Hello\n",
      "Hola\n",
      "Bonjour\n"
     ]
    }
   ],
   "source": [
    "def greet(lang):\n",
    "    if lang == 'es':\n",
    "        print('Hola')\n",
    "    elif lang == 'fr':\n",
    "        print('Bonjour')\n",
    "    else:\n",
    "        print('Hello')\n",
    "greet(\"en\")\n",
    "greet(\"es\")\n",
    "greet(\"fr\")"
   ]
  },
  {
   "cell_type": "code",
   "execution_count": 12,
   "id": "88f61d32",
   "metadata": {},
   "outputs": [
    {
     "name": "stdout",
     "output_type": "stream",
     "text": [
      "Hello Glenn\n",
      "Hello Sally\n"
     ]
    }
   ],
   "source": [
    "def greet():\n",
    "    return \"Hello\"\n",
    "print(greet(), \"Glenn\")\n",
    "print(greet(), \"Sally\")"
   ]
  },
  {
   "cell_type": "code",
   "execution_count": 13,
   "id": "92a8074c",
   "metadata": {},
   "outputs": [
    {
     "name": "stdout",
     "output_type": "stream",
     "text": [
      "Hello Glenn\n",
      "Hola Sally\n",
      "Bonjour Michael\n"
     ]
    }
   ],
   "source": [
    "def greet(lang):\n",
    "    if lang == 'es':\n",
    "        return 'Hola'\n",
    "    elif lang == 'fr':\n",
    "        return 'Bonjour'\n",
    "    else:\n",
    "        return 'Hello'\n",
    "\n",
    "print(greet('en'),'Glenn')\n",
    "print(greet('es'),'Sally')\n",
    "print(greet('fr'),'Michael')"
   ]
  },
  {
   "cell_type": "code",
   "execution_count": 14,
   "id": "b7e0ad7b",
   "metadata": {},
   "outputs": [
    {
     "name": "stdout",
     "output_type": "stream",
     "text": [
      "8\n"
     ]
    }
   ],
   "source": [
    "def addtwo(a, b):\n",
    "    added = a + b\n",
    "    return added\n",
    "x = addtwo(3, 5)\n",
    "print(x)"
   ]
  },
  {
   "cell_type": "code",
   "execution_count": 16,
   "id": "f07e9b9d",
   "metadata": {},
   "outputs": [
    {
     "name": "stdout",
     "output_type": "stream",
     "text": [
      "enter hours 45\n",
      "enter rate 1.3\n",
      "67.5\n"
     ]
    }
   ],
   "source": [
    "def computepay(hours,rate):\n",
    "    if hours > 40:\n",
    "        print(hours*rate*1.5)\n",
    "    else:\n",
    "        print(hours*rate)\n",
    "inpHours = input(\"enter hours \")\n",
    "inpRate = input(\"enter rate \")\n",
    "intHours = int(float(inpHours))\n",
    "intRate = int(float(inpRate))\n",
    "computepay(intHours,intRate)"
   ]
  },
  {
   "cell_type": "code",
   "execution_count": 17,
   "id": "bc20ca47",
   "metadata": {},
   "outputs": [
    {
     "name": "stdout",
     "output_type": "stream",
     "text": [
      "enter hours 45\n",
      "enter rate 1.3\n",
      "67.5\n"
     ]
    }
   ],
   "source": [
    "def computepay(hours,rate):\n",
    "    if hours > 40:\n",
    "        return hours*rate*1.5\n",
    "    else:\n",
    "        return hours*rate\n",
    "inpHours = input(\"enter hours \")\n",
    "inpRate = input(\"enter rate \")\n",
    "intHours = int(float(inpHours))\n",
    "intRate = int(float(inpRate))\n",
    "x = computepay(intHours,intRate)\n",
    "print(x)"
   ]
  },
  {
   "cell_type": "code",
   "execution_count": null,
   "id": "c0ddf8bb",
   "metadata": {},
   "outputs": [],
   "source": []
  }
 ],
 "metadata": {
  "kernelspec": {
   "display_name": "Python 3 (ipykernel)",
   "language": "python",
   "name": "python3"
  },
  "language_info": {
   "codemirror_mode": {
    "name": "ipython",
    "version": 3
   },
   "file_extension": ".py",
   "mimetype": "text/x-python",
   "name": "python",
   "nbconvert_exporter": "python",
   "pygments_lexer": "ipython3",
   "version": "3.9.13"
  }
 },
 "nbformat": 4,
 "nbformat_minor": 5
}
